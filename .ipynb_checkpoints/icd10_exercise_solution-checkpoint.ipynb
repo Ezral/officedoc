{
 "cells": [
  {
   "cell_type": "markdown",
   "metadata": {},
   "source": [
    "# ICD-10-PCS conversion\n",
    "\n",
    "---\n",
    "\n",
    "This is initially an exercise that was meant to be done using R. The idea _(at least what I gathered from Melissa's explanation - hope I didn't get it wrong)_ is to convert the ICD-10-PCS codes that we currently have for the enhanced list in our database (which uses Bioportal ICD codes) into the official one <sub>(also what I gathered from Melissa's explanation)</sub>\n",
    "\n",
    "This is going to be done in python since I definitely can't do this using R. 🐍\n",
    "\n",
    "## Content\n",
    " - [ETL](#ETL)\n",
    " - [Goal](#Goal)\n",
    " - [Creating dictionary](#Creating-dictionary)\n",
    " - [Creating the function](#Creating-the-function)\n",
    " - [Implementing the function](#Implementing-the-function)\n",
    " - [Conclusion](#Conclusion)\n",
    " \n",
    " ---\n",
    " \n",
    "## ETL\n",
    "\n",
    "Packages that will be used (or not) throughout this exercise."
   ]
  },
  {
   "cell_type": "code",
   "execution_count": 1,
   "metadata": {
    "code_folding": [
     0
    ]
   },
   "outputs": [],
   "source": [
    "# Importing packages for data management \n",
    "import pandas as pd    # Importing pandas\n",
    "import numpy as np     # Importing numpy\n",
    "import datetime as dt  # Importing datetime\n",
    "import re              # Importing regular expression\n",
    "import warnings        # To suppress warning alert\n",
    "warnings.filterwarnings('ignore')\n",
    "#Change setting to avoid dataframe from truncating\n",
    "pd.options.display.max_rows = 500\n",
    "pd.options.display.width = 500\n",
    "pd.options.display.max_colwidth = 500\n",
    "pd.options.display.max_columns = 500"
   ]
  },
  {
   "cell_type": "code",
   "execution_count": 2,
   "metadata": {
    "code_folding": [
     0
    ]
   },
   "outputs": [],
   "source": [
    "# Reading the datasets \n",
    "pcs = pd.read_csv(\"icd10_pcs_all_codes.csv\", usecols = ['code','title'])\n",
    "pedn = pd.read_excel(\"2020-04-27 Enhanced list for pediatric neurology.xlsx\")"
   ]
  },
  {
   "cell_type": "markdown",
   "metadata": {},
   "source": [
    "---\n",
    "\n",
    "## Goal\n",
    "\n",
    "```\n",
    "Return the value of ICD-10-PCS title (or in other term ICD-10 display name) \n",
    "by inputting ICD-10-PCS code (7 characters) or partial code (< 7 characters)\n",
    "```\n",
    "\n",
    "Quick look at the dataset:"
   ]
  },
  {
   "cell_type": "code",
   "execution_count": 3,
   "metadata": {
    "scrolled": true
   },
   "outputs": [
    {
     "data": {
      "text/html": [
       "<div>\n",
       "<style scoped>\n",
       "    .dataframe tbody tr th:only-of-type {\n",
       "        vertical-align: middle;\n",
       "    }\n",
       "\n",
       "    .dataframe tbody tr th {\n",
       "        vertical-align: top;\n",
       "    }\n",
       "\n",
       "    .dataframe thead th {\n",
       "        text-align: right;\n",
       "    }\n",
       "</style>\n",
       "<table border=\"1\" class=\"dataframe\">\n",
       "  <thead>\n",
       "    <tr style=\"text-align: right;\">\n",
       "      <th></th>\n",
       "      <th>code</th>\n",
       "      <th>title</th>\n",
       "    </tr>\n",
       "  </thead>\n",
       "  <tbody>\n",
       "    <tr>\n",
       "      <th>60985</th>\n",
       "      <td>0UWHX7Z</td>\n",
       "      <td>Medical and Surgical @Female Reproductive System @Revision @Vagina and Cul-de-sac @External @Autologous Tissue Substitute @No Qualifier</td>\n",
       "    </tr>\n",
       "    <tr>\n",
       "      <th>34465</th>\n",
       "      <td>0FWB0KZ</td>\n",
       "      <td>Medical and Surgical @Hepatobiliary System and Pancreas @Revision @Hepatobiliary Duct @Open @Nonautologous Tissue Substitute @No Qualifier</td>\n",
       "    </tr>\n",
       "    <tr>\n",
       "      <th>65610</th>\n",
       "      <td>0XJH3ZZ</td>\n",
       "      <td>Medical and Surgical @Anatomical Regions, Upper Extremities @Inspection @Wrist Region, Left @Percutaneous @No Device @No Qualifier</td>\n",
       "    </tr>\n",
       "    <tr>\n",
       "      <th>64426</th>\n",
       "      <td>0WW4X0Z</td>\n",
       "      <td>Medical and Surgical @Anatomical Regions, General @Revision @Upper Jaw @External @Drainage Device @No Qualifier</td>\n",
       "    </tr>\n",
       "    <tr>\n",
       "      <th>38711</th>\n",
       "      <td>0KN4XZZ</td>\n",
       "      <td>Medical and Surgical @Muscles @Release @Tongue, Palate, Pharynx Muscle @External @No Device @No Qualifier</td>\n",
       "    </tr>\n",
       "  </tbody>\n",
       "</table>\n",
       "</div>"
      ],
      "text/plain": [
       "          code                                                                                                                                       title\n",
       "60985  0UWHX7Z     Medical and Surgical @Female Reproductive System @Revision @Vagina and Cul-de-sac @External @Autologous Tissue Substitute @No Qualifier\n",
       "34465  0FWB0KZ  Medical and Surgical @Hepatobiliary System and Pancreas @Revision @Hepatobiliary Duct @Open @Nonautologous Tissue Substitute @No Qualifier\n",
       "65610  0XJH3ZZ          Medical and Surgical @Anatomical Regions, Upper Extremities @Inspection @Wrist Region, Left @Percutaneous @No Device @No Qualifier\n",
       "64426  0WW4X0Z                             Medical and Surgical @Anatomical Regions, General @Revision @Upper Jaw @External @Drainage Device @No Qualifier\n",
       "38711  0KN4XZZ                                   Medical and Surgical @Muscles @Release @Tongue, Palate, Pharynx Muscle @External @No Device @No Qualifier"
      ]
     },
     "execution_count": 3,
     "metadata": {},
     "output_type": "execute_result"
    }
   ],
   "source": [
    "pcs.sample(5)"
   ]
  },
  {
   "cell_type": "markdown",
   "metadata": {},
   "source": [
    "Initially during the group discussion there was a mention of using join/merge function to solve this problem. But I don't think that would work since some of the ICD-10-PCS codes that comes from our list are partial codes. And if we want to populate partial display names, there's no way to do it without modifying the official ICD-10-PCS dataset.\n",
    "\n",
    "My first thought is to create a dictionary for each hierarchy (nth character) and using a for loop within a function that allows each character to act as a key to return the value of that particular character and eventually put all of them together returning a complete or partial ICD-10 display name. This doesn't work because ICD-10 has a tree structure and creating dictionaries using for loop would leave out a lot of values in the ICD-10-PCS\n",
    "\n",
    "My next idea is to:\n",
    "1. Create a dictionary out of all the rows in ICD-10-PCS, using the code & display name tuple as key and value. \n",
    "2. Create a function that:\n",
    "    - Takes a code or partial code that will find all match in the dictionary values using regex \n",
    "    - Creates an empty list to store all the values that match the input\n",
    "    - Uses a for loop to iterate through the dictionary keys and appending the matches to the empty list\n",
    "    - Returning the display name (the dictionary value) up to the length of the input (up to 7 levels depending on the code length)\n",
    "3. Apply the function to a subset of the enhanced list dataframe for confirmation\n",
    "\n",
    "[back to top](#ICD-10-PCS-conversion)\n",
    "\n",
    "---\n",
    "\n",
    "## Creating dictionary"
   ]
  },
  {
   "cell_type": "code",
   "execution_count": 4,
   "metadata": {
    "code_folding": []
   },
   "outputs": [],
   "source": [
    "# Creating new column to contain list for split display name  \n",
    "pcs['title'] = pcs['title'].str.lower()\n",
    "pcs['split_title']=pcs['title'].apply(lambda x: x.split(\" @\"))"
   ]
  },
  {
   "cell_type": "code",
   "execution_count": 5,
   "metadata": {
    "code_folding": [
     0
    ]
   },
   "outputs": [],
   "source": [
    "# Creating dictionary for all ICD-10-PCS rows \n",
    "pcs_dict={}\n",
    "for key, val in zip(pcs.code,pcs.split_title):\n",
    "    pcs_dict[key] = val"
   ]
  },
  {
   "cell_type": "markdown",
   "metadata": {},
   "source": [
    "---\n",
    "\n",
    "## Creating function"
   ]
  },
  {
   "cell_type": "code",
   "execution_count": 6,
   "metadata": {
    "code_folding": []
   },
   "outputs": [],
   "source": [
    "# Writing function to lookup ICD-10-PCS display name in the dictionary  \n",
    "def icd10pcs_lookup(x):\n",
    "    '''\n",
    "    This function takes code/partial codes that will be \n",
    "    matched with the dictionary keys.\n",
    "    For loop function iterates through the dictionary keys\n",
    "    and appends the dictionary key if it matches the input.\n",
    "    It will skip if there's no match found from the regex\n",
    "    or if the length of the key that is matched is < 7.\n",
    "    '''\n",
    "    codes= list(x)\n",
    "    keys = []\n",
    "    for element in pcs_dict.keys():\n",
    "        key = re.findall(r\"{}\\w*\".format(x), element)\n",
    "        if key == []:                         \n",
    "            continue\n",
    "        elif len((list(key[0]))) != 7:\n",
    "            continue\n",
    "        else:\n",
    "            keys.append(key[0])\n",
    "    result=pcs_dict[keys[0]][:(len(codes))]\n",
    "    '''\n",
    "    The result is the value called by the first 7 character\n",
    "    key that matches the search pattern, in this case the\n",
    "    code whether it's full or partial.\n",
    "    String format for the return value is adjusted to \n",
    "    follow to the format used in the enhanced list.\n",
    "    '''\n",
    "    return str(result).replace(\"', '\",\" @ \").replace(\"['\",\"\").replace(\"']\",\"\")"
   ]
  },
  {
   "cell_type": "markdown",
   "metadata": {},
   "source": [
    "Quick test to see how the function works:"
   ]
  },
  {
   "cell_type": "code",
   "execution_count": 7,
   "metadata": {},
   "outputs": [
    {
     "data": {
      "text/plain": [
       "'medical and surgical @ muscles @ excision'"
      ]
     },
     "execution_count": 7,
     "metadata": {},
     "output_type": "execute_result"
    }
   ],
   "source": [
    "icd10pcs_lookup('0KB')"
   ]
  },
  {
   "cell_type": "markdown",
   "metadata": {},
   "source": [
    "👆🏽 Looks good. The output gives us 3 levels of the code display name just as we wanted. Next, implementing it to the enhanced list.\n",
    "\n",
    "[back to top](#ICD-10-PCS-conversion)\n",
    "\n",
    "---\n",
    "\n",
    "## Implementing in enhanced specialty dataset\n",
    "\n",
    "Since this is for testing purpose only, I will use only 1 column of ICD-10-codes from the pediatric neurology enhanced list. I will include the SNOMED display name as a reference and ICD-10 display name to compare the result that'll be given by the function.\n",
    "\n",
    "To know whether there are different values or not, I'm going to create a new column to show the comparison between the two columns. I'll add a new column called 'no_discrepancy' that will contain boolean value, ```True``` if there's no discrepancy and ```False``` if otherwise. Rows with discrepancy will be highlighted to help point them out if there are any.\n",
    "\n",
    "To do this I will neet to change all letter to lower case in the 'ICD-10 display name 1' column."
   ]
  },
  {
   "cell_type": "code",
   "execution_count": 8,
   "metadata": {
    "code_folding": []
   },
   "outputs": [],
   "source": [
    "# Creating a new dataframe from the pediatric neurology enhanced list \n",
    "test_df = pedn[['SNOMED display name','ICD-10 code 1', 'ICD-10 display name 1']].dropna() #dropna to remove blank row\n",
    "test_df['ICD-10 code 1'] = test_df['ICD-10 code 1'].astype(str) #changing column value to str "
   ]
  },
  {
   "cell_type": "code",
   "execution_count": 9,
   "metadata": {
    "code_folding": []
   },
   "outputs": [],
   "source": [
    "# Applying the function to the dataset \n",
    "test_df[\"lookup_result\"] = test_df['ICD-10 code 1'].apply(icd10pcs_lookup)"
   ]
  },
  {
   "cell_type": "code",
   "execution_count": 10,
   "metadata": {
    "code_folding": []
   },
   "outputs": [],
   "source": [
    "# changing the letter case & creating 'no_discrepancy' column \n",
    "test_df['ICD-10 display name 1'] = test_df['ICD-10 display name 1'].str.lower()\n",
    "test_df['no_discrepancy'] = test_df['ICD-10 display name 1'] == test_df['lookup_result']"
   ]
  },
  {
   "cell_type": "code",
   "execution_count": 11,
   "metadata": {
    "code_folding": []
   },
   "outputs": [
    {
     "data": {
      "text/html": [
       "<style  type=\"text/css\" >\n",
       "    #T_d4e6a6c2_bd59_11ea_93c3_d0817ac0fe50row0_col0 {\n",
       "            background-color:  #white;\n",
       "        }    #T_d4e6a6c2_bd59_11ea_93c3_d0817ac0fe50row0_col1 {\n",
       "            background-color:  #white;\n",
       "        }    #T_d4e6a6c2_bd59_11ea_93c3_d0817ac0fe50row0_col2 {\n",
       "            background-color:  #white;\n",
       "        }    #T_d4e6a6c2_bd59_11ea_93c3_d0817ac0fe50row0_col3 {\n",
       "            background-color:  #white;\n",
       "        }    #T_d4e6a6c2_bd59_11ea_93c3_d0817ac0fe50row0_col4 {\n",
       "            background-color:  #white;\n",
       "        }    #T_d4e6a6c2_bd59_11ea_93c3_d0817ac0fe50row1_col0 {\n",
       "            background-color:  #white;\n",
       "        }    #T_d4e6a6c2_bd59_11ea_93c3_d0817ac0fe50row1_col1 {\n",
       "            background-color:  #white;\n",
       "        }    #T_d4e6a6c2_bd59_11ea_93c3_d0817ac0fe50row1_col2 {\n",
       "            background-color:  #white;\n",
       "        }    #T_d4e6a6c2_bd59_11ea_93c3_d0817ac0fe50row1_col3 {\n",
       "            background-color:  #white;\n",
       "        }    #T_d4e6a6c2_bd59_11ea_93c3_d0817ac0fe50row1_col4 {\n",
       "            background-color:  #white;\n",
       "        }    #T_d4e6a6c2_bd59_11ea_93c3_d0817ac0fe50row2_col0 {\n",
       "            background-color:  #white;\n",
       "        }    #T_d4e6a6c2_bd59_11ea_93c3_d0817ac0fe50row2_col1 {\n",
       "            background-color:  #white;\n",
       "        }    #T_d4e6a6c2_bd59_11ea_93c3_d0817ac0fe50row2_col2 {\n",
       "            background-color:  #white;\n",
       "        }    #T_d4e6a6c2_bd59_11ea_93c3_d0817ac0fe50row2_col3 {\n",
       "            background-color:  #white;\n",
       "        }    #T_d4e6a6c2_bd59_11ea_93c3_d0817ac0fe50row2_col4 {\n",
       "            background-color:  #white;\n",
       "        }    #T_d4e6a6c2_bd59_11ea_93c3_d0817ac0fe50row3_col0 {\n",
       "            background-color:  #ff7092;\n",
       "        }    #T_d4e6a6c2_bd59_11ea_93c3_d0817ac0fe50row3_col1 {\n",
       "            background-color:  #ff7092;\n",
       "        }    #T_d4e6a6c2_bd59_11ea_93c3_d0817ac0fe50row3_col2 {\n",
       "            background-color:  #ff7092;\n",
       "        }    #T_d4e6a6c2_bd59_11ea_93c3_d0817ac0fe50row3_col3 {\n",
       "            background-color:  #ff7092;\n",
       "        }    #T_d4e6a6c2_bd59_11ea_93c3_d0817ac0fe50row3_col4 {\n",
       "            background-color:  #ff7092;\n",
       "        }    #T_d4e6a6c2_bd59_11ea_93c3_d0817ac0fe50row4_col0 {\n",
       "            background-color:  #white;\n",
       "        }    #T_d4e6a6c2_bd59_11ea_93c3_d0817ac0fe50row4_col1 {\n",
       "            background-color:  #white;\n",
       "        }    #T_d4e6a6c2_bd59_11ea_93c3_d0817ac0fe50row4_col2 {\n",
       "            background-color:  #white;\n",
       "        }    #T_d4e6a6c2_bd59_11ea_93c3_d0817ac0fe50row4_col3 {\n",
       "            background-color:  #white;\n",
       "        }    #T_d4e6a6c2_bd59_11ea_93c3_d0817ac0fe50row4_col4 {\n",
       "            background-color:  #white;\n",
       "        }    #T_d4e6a6c2_bd59_11ea_93c3_d0817ac0fe50row5_col0 {\n",
       "            background-color:  #white;\n",
       "        }    #T_d4e6a6c2_bd59_11ea_93c3_d0817ac0fe50row5_col1 {\n",
       "            background-color:  #white;\n",
       "        }    #T_d4e6a6c2_bd59_11ea_93c3_d0817ac0fe50row5_col2 {\n",
       "            background-color:  #white;\n",
       "        }    #T_d4e6a6c2_bd59_11ea_93c3_d0817ac0fe50row5_col3 {\n",
       "            background-color:  #white;\n",
       "        }    #T_d4e6a6c2_bd59_11ea_93c3_d0817ac0fe50row5_col4 {\n",
       "            background-color:  #white;\n",
       "        }    #T_d4e6a6c2_bd59_11ea_93c3_d0817ac0fe50row6_col0 {\n",
       "            background-color:  #white;\n",
       "        }    #T_d4e6a6c2_bd59_11ea_93c3_d0817ac0fe50row6_col1 {\n",
       "            background-color:  #white;\n",
       "        }    #T_d4e6a6c2_bd59_11ea_93c3_d0817ac0fe50row6_col2 {\n",
       "            background-color:  #white;\n",
       "        }    #T_d4e6a6c2_bd59_11ea_93c3_d0817ac0fe50row6_col3 {\n",
       "            background-color:  #white;\n",
       "        }    #T_d4e6a6c2_bd59_11ea_93c3_d0817ac0fe50row6_col4 {\n",
       "            background-color:  #white;\n",
       "        }    #T_d4e6a6c2_bd59_11ea_93c3_d0817ac0fe50row7_col0 {\n",
       "            background-color:  #white;\n",
       "        }    #T_d4e6a6c2_bd59_11ea_93c3_d0817ac0fe50row7_col1 {\n",
       "            background-color:  #white;\n",
       "        }    #T_d4e6a6c2_bd59_11ea_93c3_d0817ac0fe50row7_col2 {\n",
       "            background-color:  #white;\n",
       "        }    #T_d4e6a6c2_bd59_11ea_93c3_d0817ac0fe50row7_col3 {\n",
       "            background-color:  #white;\n",
       "        }    #T_d4e6a6c2_bd59_11ea_93c3_d0817ac0fe50row7_col4 {\n",
       "            background-color:  #white;\n",
       "        }    #T_d4e6a6c2_bd59_11ea_93c3_d0817ac0fe50row8_col0 {\n",
       "            background-color:  #white;\n",
       "        }    #T_d4e6a6c2_bd59_11ea_93c3_d0817ac0fe50row8_col1 {\n",
       "            background-color:  #white;\n",
       "        }    #T_d4e6a6c2_bd59_11ea_93c3_d0817ac0fe50row8_col2 {\n",
       "            background-color:  #white;\n",
       "        }    #T_d4e6a6c2_bd59_11ea_93c3_d0817ac0fe50row8_col3 {\n",
       "            background-color:  #white;\n",
       "        }    #T_d4e6a6c2_bd59_11ea_93c3_d0817ac0fe50row8_col4 {\n",
       "            background-color:  #white;\n",
       "        }    #T_d4e6a6c2_bd59_11ea_93c3_d0817ac0fe50row9_col0 {\n",
       "            background-color:  #white;\n",
       "        }    #T_d4e6a6c2_bd59_11ea_93c3_d0817ac0fe50row9_col1 {\n",
       "            background-color:  #white;\n",
       "        }    #T_d4e6a6c2_bd59_11ea_93c3_d0817ac0fe50row9_col2 {\n",
       "            background-color:  #white;\n",
       "        }    #T_d4e6a6c2_bd59_11ea_93c3_d0817ac0fe50row9_col3 {\n",
       "            background-color:  #white;\n",
       "        }    #T_d4e6a6c2_bd59_11ea_93c3_d0817ac0fe50row9_col4 {\n",
       "            background-color:  #white;\n",
       "        }    #T_d4e6a6c2_bd59_11ea_93c3_d0817ac0fe50row10_col0 {\n",
       "            background-color:  #white;\n",
       "        }    #T_d4e6a6c2_bd59_11ea_93c3_d0817ac0fe50row10_col1 {\n",
       "            background-color:  #white;\n",
       "        }    #T_d4e6a6c2_bd59_11ea_93c3_d0817ac0fe50row10_col2 {\n",
       "            background-color:  #white;\n",
       "        }    #T_d4e6a6c2_bd59_11ea_93c3_d0817ac0fe50row10_col3 {\n",
       "            background-color:  #white;\n",
       "        }    #T_d4e6a6c2_bd59_11ea_93c3_d0817ac0fe50row10_col4 {\n",
       "            background-color:  #white;\n",
       "        }    #T_d4e6a6c2_bd59_11ea_93c3_d0817ac0fe50row11_col0 {\n",
       "            background-color:  #ff7092;\n",
       "        }    #T_d4e6a6c2_bd59_11ea_93c3_d0817ac0fe50row11_col1 {\n",
       "            background-color:  #ff7092;\n",
       "        }    #T_d4e6a6c2_bd59_11ea_93c3_d0817ac0fe50row11_col2 {\n",
       "            background-color:  #ff7092;\n",
       "        }    #T_d4e6a6c2_bd59_11ea_93c3_d0817ac0fe50row11_col3 {\n",
       "            background-color:  #ff7092;\n",
       "        }    #T_d4e6a6c2_bd59_11ea_93c3_d0817ac0fe50row11_col4 {\n",
       "            background-color:  #ff7092;\n",
       "        }    #T_d4e6a6c2_bd59_11ea_93c3_d0817ac0fe50row12_col0 {\n",
       "            background-color:  #white;\n",
       "        }    #T_d4e6a6c2_bd59_11ea_93c3_d0817ac0fe50row12_col1 {\n",
       "            background-color:  #white;\n",
       "        }    #T_d4e6a6c2_bd59_11ea_93c3_d0817ac0fe50row12_col2 {\n",
       "            background-color:  #white;\n",
       "        }    #T_d4e6a6c2_bd59_11ea_93c3_d0817ac0fe50row12_col3 {\n",
       "            background-color:  #white;\n",
       "        }    #T_d4e6a6c2_bd59_11ea_93c3_d0817ac0fe50row12_col4 {\n",
       "            background-color:  #white;\n",
       "        }</style><table id=\"T_d4e6a6c2_bd59_11ea_93c3_d0817ac0fe50\" ><thead>    <tr>        <th class=\"blank level0\" ></th>        <th class=\"col_heading level0 col0\" >SNOMED display name</th>        <th class=\"col_heading level0 col1\" >ICD-10 code 1</th>        <th class=\"col_heading level0 col2\" >ICD-10 display name 1</th>        <th class=\"col_heading level0 col3\" >lookup_result</th>        <th class=\"col_heading level0 col4\" >no_discrepancy</th>    </tr></thead><tbody>\n",
       "                <tr>\n",
       "                        <th id=\"T_d4e6a6c2_bd59_11ea_93c3_d0817ac0fe50level0_row0\" class=\"row_heading level0 row0\" >1</th>\n",
       "                        <td id=\"T_d4e6a6c2_bd59_11ea_93c3_d0817ac0fe50row0_col0\" class=\"data row0 col0\" >electroencephalogram</td>\n",
       "                        <td id=\"T_d4e6a6c2_bd59_11ea_93c3_d0817ac0fe50row0_col1\" class=\"data row0 col1\" >4A00X4</td>\n",
       "                        <td id=\"T_d4e6a6c2_bd59_11ea_93c3_d0817ac0fe50row0_col2\" class=\"data row0 col2\" >measurement and monitoring @ physiological systems @ measurement @ central nervous @ external @ electrical activity</td>\n",
       "                        <td id=\"T_d4e6a6c2_bd59_11ea_93c3_d0817ac0fe50row0_col3\" class=\"data row0 col3\" >measurement and monitoring @ physiological systems @ measurement @ central nervous @ external @ electrical activity</td>\n",
       "                        <td id=\"T_d4e6a6c2_bd59_11ea_93c3_d0817ac0fe50row0_col4\" class=\"data row0 col4\" >True</td>\n",
       "            </tr>\n",
       "            <tr>\n",
       "                        <th id=\"T_d4e6a6c2_bd59_11ea_93c3_d0817ac0fe50level0_row1\" class=\"row_heading level0 row1\" >2</th>\n",
       "                        <td id=\"T_d4e6a6c2_bd59_11ea_93c3_d0817ac0fe50row1_col0\" class=\"data row1 col0\" >electromyography</td>\n",
       "                        <td id=\"T_d4e6a6c2_bd59_11ea_93c3_d0817ac0fe50row1_col1\" class=\"data row1 col1\" >4A0FX</td>\n",
       "                        <td id=\"T_d4e6a6c2_bd59_11ea_93c3_d0817ac0fe50row1_col2\" class=\"data row1 col2\" >measurement and monitoring @ physiological systems @ measurement @ musculoskeletal @ external</td>\n",
       "                        <td id=\"T_d4e6a6c2_bd59_11ea_93c3_d0817ac0fe50row1_col3\" class=\"data row1 col3\" >measurement and monitoring @ physiological systems @ measurement @ musculoskeletal @ external</td>\n",
       "                        <td id=\"T_d4e6a6c2_bd59_11ea_93c3_d0817ac0fe50row1_col4\" class=\"data row1 col4\" >True</td>\n",
       "            </tr>\n",
       "            <tr>\n",
       "                        <th id=\"T_d4e6a6c2_bd59_11ea_93c3_d0817ac0fe50level0_row2\" class=\"row_heading level0 row2\" >3</th>\n",
       "                        <td id=\"T_d4e6a6c2_bd59_11ea_93c3_d0817ac0fe50row2_col0\" class=\"data row2 col0\" >electronystagmography</td>\n",
       "                        <td id=\"T_d4e6a6c2_bd59_11ea_93c3_d0817ac0fe50row2_col1\" class=\"data row2 col1\" >F15Z1</td>\n",
       "                        <td id=\"T_d4e6a6c2_bd59_11ea_93c3_d0817ac0fe50row2_col2\" class=\"data row2 col2\" >physical rehabilitation and diagnostic audiology @ diagnostic audiology @ vestibular assessment @ none @ bithermal, monaural caloric irrigation</td>\n",
       "                        <td id=\"T_d4e6a6c2_bd59_11ea_93c3_d0817ac0fe50row2_col3\" class=\"data row2 col3\" >physical rehabilitation and diagnostic audiology @ diagnostic audiology @ vestibular assessment @ none @ bithermal, monaural caloric irrigation</td>\n",
       "                        <td id=\"T_d4e6a6c2_bd59_11ea_93c3_d0817ac0fe50row2_col4\" class=\"data row2 col4\" >True</td>\n",
       "            </tr>\n",
       "            <tr>\n",
       "                        <th id=\"T_d4e6a6c2_bd59_11ea_93c3_d0817ac0fe50level0_row3\" class=\"row_heading level0 row3\" >4</th>\n",
       "                        <td id=\"T_d4e6a6c2_bd59_11ea_93c3_d0817ac0fe50row3_col0\" class=\"data row3 col0\" >lumbar puncture</td>\n",
       "                        <td id=\"T_d4e6a6c2_bd59_11ea_93c3_d0817ac0fe50row3_col1\" class=\"data row3 col1\" >009U3Z</td>\n",
       "                        <td id=\"T_d4e6a6c2_bd59_11ea_93c3_d0817ac0fe50row3_col2\" class=\"data row3 col2\" >medical and surgical @ central nervous system @ drainage @ spinal canal @ percutaneous @ no device</td>\n",
       "                        <td id=\"T_d4e6a6c2_bd59_11ea_93c3_d0817ac0fe50row3_col3\" class=\"data row3 col3\" >medical and surgical @ central nervous system and cranial nerves @ drainage @ spinal canal @ percutaneous @ no device</td>\n",
       "                        <td id=\"T_d4e6a6c2_bd59_11ea_93c3_d0817ac0fe50row3_col4\" class=\"data row3 col4\" >False</td>\n",
       "            </tr>\n",
       "            <tr>\n",
       "                        <th id=\"T_d4e6a6c2_bd59_11ea_93c3_d0817ac0fe50level0_row4\" class=\"row_heading level0 row4\" >5</th>\n",
       "                        <td id=\"T_d4e6a6c2_bd59_11ea_93c3_d0817ac0fe50row4_col0\" class=\"data row4 col0\" >magnetoencephalography</td>\n",
       "                        <td id=\"T_d4e6a6c2_bd59_11ea_93c3_d0817ac0fe50row4_col1\" class=\"data row4 col1\" >B030</td>\n",
       "                        <td id=\"T_d4e6a6c2_bd59_11ea_93c3_d0817ac0fe50row4_col2\" class=\"data row4 col2\" >imaging @ central nervous system @ magnetic resonance imaging (mri) @ brain</td>\n",
       "                        <td id=\"T_d4e6a6c2_bd59_11ea_93c3_d0817ac0fe50row4_col3\" class=\"data row4 col3\" >imaging @ central nervous system @ magnetic resonance imaging (mri) @ brain</td>\n",
       "                        <td id=\"T_d4e6a6c2_bd59_11ea_93c3_d0817ac0fe50row4_col4\" class=\"data row4 col4\" >True</td>\n",
       "            </tr>\n",
       "            <tr>\n",
       "                        <th id=\"T_d4e6a6c2_bd59_11ea_93c3_d0817ac0fe50level0_row5\" class=\"row_heading level0 row5\" >6</th>\n",
       "                        <td id=\"T_d4e6a6c2_bd59_11ea_93c3_d0817ac0fe50row5_col0\" class=\"data row5 col0\" >biopsy of muscle</td>\n",
       "                        <td id=\"T_d4e6a6c2_bd59_11ea_93c3_d0817ac0fe50row5_col1\" class=\"data row5 col1\" >0KB</td>\n",
       "                        <td id=\"T_d4e6a6c2_bd59_11ea_93c3_d0817ac0fe50row5_col2\" class=\"data row5 col2\" >medical and surgical @ muscles @ excision</td>\n",
       "                        <td id=\"T_d4e6a6c2_bd59_11ea_93c3_d0817ac0fe50row5_col3\" class=\"data row5 col3\" >medical and surgical @ muscles @ excision</td>\n",
       "                        <td id=\"T_d4e6a6c2_bd59_11ea_93c3_d0817ac0fe50row5_col4\" class=\"data row5 col4\" >True</td>\n",
       "            </tr>\n",
       "            <tr>\n",
       "                        <th id=\"T_d4e6a6c2_bd59_11ea_93c3_d0817ac0fe50level0_row6\" class=\"row_heading level0 row6\" >7</th>\n",
       "                        <td id=\"T_d4e6a6c2_bd59_11ea_93c3_d0817ac0fe50row6_col0\" class=\"data row6 col0\" >myelogram</td>\n",
       "                        <td id=\"T_d4e6a6c2_bd59_11ea_93c3_d0817ac0fe50row6_col1\" class=\"data row6 col1\" >B03BY0</td>\n",
       "                        <td id=\"T_d4e6a6c2_bd59_11ea_93c3_d0817ac0fe50row6_col2\" class=\"data row6 col2\" >imaging @ central nervous system @ magnetic resonance imaging (mri) @ spinal cord @ other contrast @ unenhanced and enhanced</td>\n",
       "                        <td id=\"T_d4e6a6c2_bd59_11ea_93c3_d0817ac0fe50row6_col3\" class=\"data row6 col3\" >imaging @ central nervous system @ magnetic resonance imaging (mri) @ spinal cord @ other contrast @ unenhanced and enhanced</td>\n",
       "                        <td id=\"T_d4e6a6c2_bd59_11ea_93c3_d0817ac0fe50row6_col4\" class=\"data row6 col4\" >True</td>\n",
       "            </tr>\n",
       "            <tr>\n",
       "                        <th id=\"T_d4e6a6c2_bd59_11ea_93c3_d0817ac0fe50level0_row7\" class=\"row_heading level0 row7\" >8</th>\n",
       "                        <td id=\"T_d4e6a6c2_bd59_11ea_93c3_d0817ac0fe50row7_col0\" class=\"data row7 col0\" >biopsy of nerve</td>\n",
       "                        <td id=\"T_d4e6a6c2_bd59_11ea_93c3_d0817ac0fe50row7_col1\" class=\"data row7 col1\" >01B54Z</td>\n",
       "                        <td id=\"T_d4e6a6c2_bd59_11ea_93c3_d0817ac0fe50row7_col2\" class=\"data row7 col2\" >medical and surgical @ peripheral nervous system @ excision @ median nerve @ percutaneous endoscopic @ no device</td>\n",
       "                        <td id=\"T_d4e6a6c2_bd59_11ea_93c3_d0817ac0fe50row7_col3\" class=\"data row7 col3\" >medical and surgical @ peripheral nervous system @ excision @ median nerve @ percutaneous endoscopic @ no device</td>\n",
       "                        <td id=\"T_d4e6a6c2_bd59_11ea_93c3_d0817ac0fe50row7_col4\" class=\"data row7 col4\" >True</td>\n",
       "            </tr>\n",
       "            <tr>\n",
       "                        <th id=\"T_d4e6a6c2_bd59_11ea_93c3_d0817ac0fe50level0_row8\" class=\"row_heading level0 row8\" >9</th>\n",
       "                        <td id=\"T_d4e6a6c2_bd59_11ea_93c3_d0817ac0fe50row8_col0\" class=\"data row8 col0\" >nerve conduction study</td>\n",
       "                        <td id=\"T_d4e6a6c2_bd59_11ea_93c3_d0817ac0fe50row8_col1\" class=\"data row8 col1\" >4A01X2</td>\n",
       "                        <td id=\"T_d4e6a6c2_bd59_11ea_93c3_d0817ac0fe50row8_col2\" class=\"data row8 col2\" >measurement and monitoring @ physiological systems @ measurement @ peripheral nervous @ external @ conductivity</td>\n",
       "                        <td id=\"T_d4e6a6c2_bd59_11ea_93c3_d0817ac0fe50row8_col3\" class=\"data row8 col3\" >measurement and monitoring @ physiological systems @ measurement @ peripheral nervous @ external @ conductivity</td>\n",
       "                        <td id=\"T_d4e6a6c2_bd59_11ea_93c3_d0817ac0fe50row8_col4\" class=\"data row8 col4\" >True</td>\n",
       "            </tr>\n",
       "            <tr>\n",
       "                        <th id=\"T_d4e6a6c2_bd59_11ea_93c3_d0817ac0fe50level0_row9\" class=\"row_heading level0 row9\" >10</th>\n",
       "                        <td id=\"T_d4e6a6c2_bd59_11ea_93c3_d0817ac0fe50row9_col0\" class=\"data row9 col0\" >transcutaneous electrical nerve stimulation</td>\n",
       "                        <td id=\"T_d4e6a6c2_bd59_11ea_93c3_d0817ac0fe50row9_col1\" class=\"data row9 col1\" >01HY3M</td>\n",
       "                        <td id=\"T_d4e6a6c2_bd59_11ea_93c3_d0817ac0fe50row9_col2\" class=\"data row9 col2\" >medical and surgical @ peripheral nervous system @ insertion @ peripheral nerve @ percutaneous @ neurostimulator lead</td>\n",
       "                        <td id=\"T_d4e6a6c2_bd59_11ea_93c3_d0817ac0fe50row9_col3\" class=\"data row9 col3\" >medical and surgical @ peripheral nervous system @ insertion @ peripheral nerve @ percutaneous @ neurostimulator lead</td>\n",
       "                        <td id=\"T_d4e6a6c2_bd59_11ea_93c3_d0817ac0fe50row9_col4\" class=\"data row9 col4\" >True</td>\n",
       "            </tr>\n",
       "            <tr>\n",
       "                        <th id=\"T_d4e6a6c2_bd59_11ea_93c3_d0817ac0fe50level0_row10\" class=\"row_heading level0 row10\" >11</th>\n",
       "                        <td id=\"T_d4e6a6c2_bd59_11ea_93c3_d0817ac0fe50row10_col0\" class=\"data row10 col0\" >polysomnogram</td>\n",
       "                        <td id=\"T_d4e6a6c2_bd59_11ea_93c3_d0817ac0fe50row10_col1\" class=\"data row10 col1\" >4A1ZXQ</td>\n",
       "                        <td id=\"T_d4e6a6c2_bd59_11ea_93c3_d0817ac0fe50row10_col2\" class=\"data row10 col2\" >measurement and monitoring @ physiological systems @ monitoring @ none @ external @ sleep</td>\n",
       "                        <td id=\"T_d4e6a6c2_bd59_11ea_93c3_d0817ac0fe50row10_col3\" class=\"data row10 col3\" >measurement and monitoring @ physiological systems @ monitoring @ none @ external @ sleep</td>\n",
       "                        <td id=\"T_d4e6a6c2_bd59_11ea_93c3_d0817ac0fe50row10_col4\" class=\"data row10 col4\" >True</td>\n",
       "            </tr>\n",
       "            <tr>\n",
       "                        <th id=\"T_d4e6a6c2_bd59_11ea_93c3_d0817ac0fe50level0_row11\" class=\"row_heading level0 row11\" >12</th>\n",
       "                        <td id=\"T_d4e6a6c2_bd59_11ea_93c3_d0817ac0fe50row11_col0\" class=\"data row11 col0\" >spinal cord stimulation</td>\n",
       "                        <td id=\"T_d4e6a6c2_bd59_11ea_93c3_d0817ac0fe50row11_col1\" class=\"data row11 col1\" >00HV3M</td>\n",
       "                        <td id=\"T_d4e6a6c2_bd59_11ea_93c3_d0817ac0fe50row11_col2\" class=\"data row11 col2\" >medical and surgical @ central nervous system @ insertion @ spinal cord @ percutaneous @ neurostimulator lead</td>\n",
       "                        <td id=\"T_d4e6a6c2_bd59_11ea_93c3_d0817ac0fe50row11_col3\" class=\"data row11 col3\" >medical and surgical @ central nervous system and cranial nerves @ insertion @ spinal cord @ percutaneous @ neurostimulator lead</td>\n",
       "                        <td id=\"T_d4e6a6c2_bd59_11ea_93c3_d0817ac0fe50row11_col4\" class=\"data row11 col4\" >False</td>\n",
       "            </tr>\n",
       "            <tr>\n",
       "                        <th id=\"T_d4e6a6c2_bd59_11ea_93c3_d0817ac0fe50level0_row12\" class=\"row_heading level0 row12\" >13</th>\n",
       "                        <td id=\"T_d4e6a6c2_bd59_11ea_93c3_d0817ac0fe50row12_col0\" class=\"data row12 col0\" >transcranial doppler</td>\n",
       "                        <td id=\"T_d4e6a6c2_bd59_11ea_93c3_d0817ac0fe50row12_col1\" class=\"data row12 col1\" >4A03X51</td>\n",
       "                        <td id=\"T_d4e6a6c2_bd59_11ea_93c3_d0817ac0fe50row12_col2\" class=\"data row12 col2\" >measurement and monitoring @ physiological systems @ measurement @ arterial @ external @ flow @ peripheral</td>\n",
       "                        <td id=\"T_d4e6a6c2_bd59_11ea_93c3_d0817ac0fe50row12_col3\" class=\"data row12 col3\" >measurement and monitoring @ physiological systems @ measurement @ arterial @ external @ flow @ peripheral</td>\n",
       "                        <td id=\"T_d4e6a6c2_bd59_11ea_93c3_d0817ac0fe50row12_col4\" class=\"data row12 col4\" >True</td>\n",
       "            </tr>\n",
       "    </tbody></table>"
      ],
      "text/plain": [
       "<pandas.io.formats.style.Styler at 0x7f8c79770e50>"
      ]
     },
     "execution_count": 11,
     "metadata": {},
     "output_type": "execute_result"
    }
   ],
   "source": [
    "# def function for row highlighting \n",
    "def row_highlight(x):\n",
    "    if x['no_discrepancy'] == False:\n",
    "        return ['background-color: #ff7092']*5\n",
    "    else:\n",
    "        return ['background-color: #white']*5\n",
    "test_df.style.apply(row_highlight, axis=1)"
   ]
  },
  {
   "cell_type": "markdown",
   "metadata": {},
   "source": [
    "We can see that there actually are some difference. In this case, what's written as ```central nervous system``` in our database is actually ```central nervous system and cranial nerves``` in the official ICD-10-PCS list. No other diferrences aside from that.\n",
    "\n",
    "---\n",
    "\n",
    "## Conclusion\n",
    "\n",
    "Overall, I think I've covered pretty much everything and managed to make it work. \n",
    "Although I think the function seems to be working as intended, it'll be good if this solution can be tested further to make sure it's robust enough.\n",
    "\n",
    "[back to top](#ICD-10-PCS-conversion)"
   ]
  }
 ],
 "metadata": {
  "kernelspec": {
   "display_name": "Python 3",
   "language": "python",
   "name": "python3"
  },
  "language_info": {
   "codemirror_mode": {
    "name": "ipython",
    "version": 3
   },
   "file_extension": ".py",
   "mimetype": "text/x-python",
   "name": "python",
   "nbconvert_exporter": "python",
   "pygments_lexer": "ipython3",
   "version": "3.7.6"
  },
  "toc": {
   "base_numbering": 1,
   "nav_menu": {},
   "number_sections": true,
   "sideBar": true,
   "skip_h1_title": true,
   "title_cell": "Table of Contents",
   "title_sidebar": "Contents",
   "toc_cell": false,
   "toc_position": {
    "height": "calc(100% - 180px)",
    "left": "10px",
    "top": "150px",
    "width": "384px"
   },
   "toc_section_display": true,
   "toc_window_display": true
  }
 },
 "nbformat": 4,
 "nbformat_minor": 4
}
