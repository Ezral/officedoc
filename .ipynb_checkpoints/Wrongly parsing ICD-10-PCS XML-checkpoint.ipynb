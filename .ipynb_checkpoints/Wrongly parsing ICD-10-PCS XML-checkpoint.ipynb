{
 "cells": [
  {
   "cell_type": "markdown",
   "metadata": {},
   "source": [
    "# Parsing ICD-10-PCS XML file\n",
    "\n",
    "## Importing etree"
   ]
  },
  {
   "cell_type": "code",
   "execution_count": 1,
   "metadata": {},
   "outputs": [],
   "source": [
    "import xml.etree.ElementTree as ET\n",
    "import pandas as pd\n",
    "#Change setting to avoid dataframe from truncating\n",
    "pd.options.display.max_rows = 500\n",
    "pd.options.display.width = 500\n",
    "pd.options.display.max_colwidth = 500\n",
    "pd.options.display.max_columns = 500"
   ]
  },
  {
   "cell_type": "code",
   "execution_count": 2,
   "metadata": {},
   "outputs": [],
   "source": [
    "%%capture\n",
    "from tqdm import tqdm_notebook as tqdm\n",
    "tqdm().pandas()\n",
    "import warnings        # To suppress warning alert\n",
    "warnings.filterwarnings('ignore')"
   ]
  },
  {
   "cell_type": "markdown",
   "metadata": {},
   "source": [
    "## Parsing xml file into etree"
   ]
  },
  {
   "cell_type": "code",
   "execution_count": 3,
   "metadata": {},
   "outputs": [],
   "source": [
    "# tree = ET.parse(\"/Users/medicalagent3/pcs2020_xml_parse.xml\")\n",
    "tree = ET.parse(\"/icd10pcs_tables_2020.xml\")\n",
    "root = tree.getroot()"
   ]
  },
  {
   "cell_type": "markdown",
   "metadata": {},
   "source": [
    "## Parsing nodes"
   ]
  },
  {
   "cell_type": "code",
   "execution_count": 5,
   "metadata": {},
   "outputs": [],
   "source": [
    "def parse_icd():\n",
    "    code_dict = {}\n",
    "    for n in tqdm(range(len(root.findall(\"./pcsTable\")))):\n",
    "        node1 = root.findall(\"./pcsTable[{}]//*[@pos='1']/label\".format(n+1))\n",
    "        node2 = root.findall(\"./pcsTable[{}]//*[@pos='2']/label\".format(n+1))\n",
    "        node3 = root.findall(\"./pcsTable[{}]//*[@pos='3']/label\".format(n+1))\n",
    "        node4 = root.findall(\"./pcsTable[{}]//*[@pos='4']/label\".format(n+1))\n",
    "        node5 = root.findall(\"./pcsTable[{}]//*[@pos='5']/label\".format(n+1))\n",
    "        node6 = root.findall(\"./pcsTable[{}]//*[@pos='6']/label\".format(n+1))\n",
    "        node7 = root.findall(\"./pcsTable[{}]//*[@pos='7']/label\".format(n+1))\n",
    "\n",
    "        nodes = [node1,node2,node3,node4,node5,node6,node7]\n",
    "\n",
    "        pos1,pos2,pos3,pos4,pos5,pos6,pos7 = [],[],[],[],[],[],[] \n",
    "\n",
    "        unique_code = [pos1,pos2,pos3,pos4,pos5,pos6,pos7]\n",
    "\n",
    "        t1,t2,t3,t4,t5,t6,t7 = [],[],[],[],[],[],[]\n",
    "\n",
    "        unique_title = [t1,t2,t3,t4,t5,t6,t7]\n",
    "\n",
    "        for val in range(7):\n",
    "            nd = nodes[val]\n",
    "            for i in nd:\n",
    "                unique_title[val].append(i.text)\n",
    "                unique_code[val].append(i.attrib['code'])\n",
    "\n",
    "        for n1,m1 in zip(pos1,t1):\n",
    "            title = m1\n",
    "            code = n1\n",
    "            for n2,m2 in zip(pos2,t2):\n",
    "                title1 = title + \" @\" + m2\n",
    "                code1 = code + n2\n",
    "                for n3,m3 in zip(pos3,t3):\n",
    "                    title2 = title1 + \" @\" +  m3\n",
    "                    code2 = code1 + n3\n",
    "                    for n4,m4 in zip(pos4,t4):\n",
    "                        title3 = title2 + \" @\" +  m4\n",
    "                        code3 = code2 + n4\n",
    "                        for n5,m5 in zip(pos5,t5):\n",
    "                            title4 = title3 + \" @\" +  m5\n",
    "                            code4 = code3 + n5\n",
    "                            for n6,m6 in zip(pos6,t6):\n",
    "                                title5 = title4 + \" @\" +  m6\n",
    "                                code5 = code4 + n6\n",
    "                                for n7,m7 in zip(pos7,t7):\n",
    "                                    ntitle = title5 + \" @\" +  m7\n",
    "                                    code6 = code5 + n7\n",
    "                                    code_dict[code6] = ntitle\n",
    "    return code_dict"
   ]
  },
  {
   "cell_type": "code",
   "execution_count": 6,
   "metadata": {},
   "outputs": [
    {
     "data": {
      "application/vnd.jupyter.widget-view+json": {
       "model_id": "626e7fdc737045faa470ec3b2baf5cab",
       "version_major": 2,
       "version_minor": 0
      },
      "text/plain": [
       "HBox(children=(FloatProgress(value=0.0, max=880.0), HTML(value='')))"
      ]
     },
     "metadata": {},
     "output_type": "display_data"
    },
    {
     "name": "stdout",
     "output_type": "stream",
     "text": [
      "\n"
     ]
    }
   ],
   "source": [
    "bruteforce_icd10 = parse_icd()"
   ]
  },
  {
   "cell_type": "markdown",
   "metadata": {},
   "source": [
    "## Converting to dataframe"
   ]
  },
  {
   "cell_type": "code",
   "execution_count": 14,
   "metadata": {},
   "outputs": [
    {
     "data": {
      "text/html": [
       "<div>\n",
       "<style scoped>\n",
       "    .dataframe tbody tr th:only-of-type {\n",
       "        vertical-align: middle;\n",
       "    }\n",
       "\n",
       "    .dataframe tbody tr th {\n",
       "        vertical-align: top;\n",
       "    }\n",
       "\n",
       "    .dataframe thead th {\n",
       "        text-align: right;\n",
       "    }\n",
       "</style>\n",
       "<table border=\"1\" class=\"dataframe\">\n",
       "  <thead>\n",
       "    <tr style=\"text-align: right;\">\n",
       "      <th></th>\n",
       "      <th>code</th>\n",
       "      <th>title</th>\n",
       "    </tr>\n",
       "  </thead>\n",
       "  <tbody>\n",
       "    <tr>\n",
       "      <th>0</th>\n",
       "      <td>0016070</td>\n",
       "      <td>Medical and Surgical @Central Nervous System and Cranial Nerves @Bypass @Cerebral Ventricle @Open @Autologous Tissue Substitute @Nasopharynx</td>\n",
       "    </tr>\n",
       "    <tr>\n",
       "      <th>1</th>\n",
       "      <td>0016071</td>\n",
       "      <td>Medical and Surgical @Central Nervous System and Cranial Nerves @Bypass @Cerebral Ventricle @Open @Autologous Tissue Substitute @Mastoid Sinus</td>\n",
       "    </tr>\n",
       "    <tr>\n",
       "      <th>2</th>\n",
       "      <td>0016072</td>\n",
       "      <td>Medical and Surgical @Central Nervous System and Cranial Nerves @Bypass @Cerebral Ventricle @Open @Autologous Tissue Substitute @Atrium</td>\n",
       "    </tr>\n",
       "    <tr>\n",
       "      <th>3</th>\n",
       "      <td>0016073</td>\n",
       "      <td>Medical and Surgical @Central Nervous System and Cranial Nerves @Bypass @Cerebral Ventricle @Open @Autologous Tissue Substitute @Blood Vessel</td>\n",
       "    </tr>\n",
       "    <tr>\n",
       "      <th>4</th>\n",
       "      <td>0016074</td>\n",
       "      <td>Medical and Surgical @Central Nervous System and Cranial Nerves @Bypass @Cerebral Ventricle @Open @Autologous Tissue Substitute @Pleural Cavity</td>\n",
       "    </tr>\n",
       "    <tr>\n",
       "      <th>...</th>\n",
       "      <td>...</td>\n",
       "      <td>...</td>\n",
       "    </tr>\n",
       "    <tr>\n",
       "      <th>368457</th>\n",
       "      <td>XW0DXV2</td>\n",
       "      <td>New Technology @Anatomical Regions @Introduction @Mouth and Pharynx @External @Gilteritinib Antineoplastic @New Technology Group 2</td>\n",
       "    </tr>\n",
       "    <tr>\n",
       "      <th>368458</th>\n",
       "      <td>XW0DXV3</td>\n",
       "      <td>New Technology @Anatomical Regions @Introduction @Mouth and Pharynx @External @Gilteritinib Antineoplastic @New Technology Group 3</td>\n",
       "    </tr>\n",
       "    <tr>\n",
       "      <th>368459</th>\n",
       "      <td>XW0DXV4</td>\n",
       "      <td>New Technology @Anatomical Regions @Introduction @Mouth and Pharynx @External @Gilteritinib Antineoplastic @New Technology Group 4</td>\n",
       "    </tr>\n",
       "    <tr>\n",
       "      <th>368460</th>\n",
       "      <td>XXE5XM5</td>\n",
       "      <td>New Technology @Physiological Systems @Measurement @Circulatory @External @Infection, Whole Blood Nucleic Acid-base Microbial Detection @New Technology Group 5</td>\n",
       "    </tr>\n",
       "    <tr>\n",
       "      <th>368461</th>\n",
       "      <td>XY0VX83</td>\n",
       "      <td>New Technology @Extracorporeal @Introduction @Vein Graft @External @Endothelial Damage Inhibitor @New Technology Group 3</td>\n",
       "    </tr>\n",
       "  </tbody>\n",
       "</table>\n",
       "<p>368462 rows × 2 columns</p>\n",
       "</div>"
      ],
      "text/plain": [
       "           code                                                                                                                                                            title\n",
       "0       0016070                     Medical and Surgical @Central Nervous System and Cranial Nerves @Bypass @Cerebral Ventricle @Open @Autologous Tissue Substitute @Nasopharynx\n",
       "1       0016071                   Medical and Surgical @Central Nervous System and Cranial Nerves @Bypass @Cerebral Ventricle @Open @Autologous Tissue Substitute @Mastoid Sinus\n",
       "2       0016072                          Medical and Surgical @Central Nervous System and Cranial Nerves @Bypass @Cerebral Ventricle @Open @Autologous Tissue Substitute @Atrium\n",
       "3       0016073                    Medical and Surgical @Central Nervous System and Cranial Nerves @Bypass @Cerebral Ventricle @Open @Autologous Tissue Substitute @Blood Vessel\n",
       "4       0016074                  Medical and Surgical @Central Nervous System and Cranial Nerves @Bypass @Cerebral Ventricle @Open @Autologous Tissue Substitute @Pleural Cavity\n",
       "...         ...                                                                                                                                                              ...\n",
       "368457  XW0DXV2                               New Technology @Anatomical Regions @Introduction @Mouth and Pharynx @External @Gilteritinib Antineoplastic @New Technology Group 2\n",
       "368458  XW0DXV3                               New Technology @Anatomical Regions @Introduction @Mouth and Pharynx @External @Gilteritinib Antineoplastic @New Technology Group 3\n",
       "368459  XW0DXV4                               New Technology @Anatomical Regions @Introduction @Mouth and Pharynx @External @Gilteritinib Antineoplastic @New Technology Group 4\n",
       "368460  XXE5XM5  New Technology @Physiological Systems @Measurement @Circulatory @External @Infection, Whole Blood Nucleic Acid-base Microbial Detection @New Technology Group 5\n",
       "368461  XY0VX83                                         New Technology @Extracorporeal @Introduction @Vein Graft @External @Endothelial Damage Inhibitor @New Technology Group 3\n",
       "\n",
       "[368462 rows x 2 columns]"
      ]
     },
     "execution_count": 14,
     "metadata": {},
     "output_type": "execute_result"
    }
   ],
   "source": [
    "brute_icd_df = pd.DataFrame.from_dict(bruteforce_icd10,orient='index').reset_index().rename(columns={'index':'code',0:'title'})\n",
    "brute_icd_df"
   ]
  }
 ],
 "metadata": {
  "kernelspec": {
   "display_name": "Python 3",
   "language": "python",
   "name": "python3"
  },
  "language_info": {
   "codemirror_mode": {
    "name": "ipython",
    "version": 3
   },
   "file_extension": ".py",
   "mimetype": "text/x-python",
   "name": "python",
   "nbconvert_exporter": "python",
   "pygments_lexer": "ipython3",
   "version": "3.7.6"
  },
  "toc": {
   "base_numbering": 1,
   "nav_menu": {},
   "number_sections": true,
   "sideBar": true,
   "skip_h1_title": true,
   "title_cell": "Table of Contents",
   "title_sidebar": "Contents",
   "toc_cell": false,
   "toc_position": {},
   "toc_section_display": true,
   "toc_window_display": true
  }
 },
 "nbformat": 4,
 "nbformat_minor": 4
}
