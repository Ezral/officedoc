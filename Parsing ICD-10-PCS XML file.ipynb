{
 "cells": [
  {
   "cell_type": "markdown",
   "metadata": {},
   "source": [
    "# Parsing ICD-10-PCS XML file\n",
    "\n",
    "---\n",
    "\n",
    "The goal of this project is to parse ICD-10-PCS XML file into a CSV file that contains 2 columns, the 7 character code and the title (or medical name) with \"@\" separating each level title. For this project I'll be using ICD-10-PCS 2020 which XML file can be downloaded from CMS.gov. \n",
    "\n",
    "I'll be using etree package in Python to work this project out. And as usual, I'll start with the table of content:\n",
    "\n",
    "## Content\n",
    "> - [Importing the packages](#Importing-the-packages)\n",
    "> - [Reading the XML file](#Reading-the-XML-file)\n",
    "> - [Parsing-the-nodes](#Parsing-the-nodes)\n",
    "> - [Creating dataframe](#Creating-dataframe)\n",
    "> - [Importing to CSV](#Importing-to-CSV)\n",
    "> - [Conclusion](#Conclusion)\n",
    "\n",
    "---\n",
    "\n",
    "## Importing packages"
   ]
  },
  {
   "cell_type": "code",
   "execution_count": 1,
   "metadata": {},
   "outputs": [],
   "source": [
    "# Importing packages \n",
    "import xml.etree.ElementTree as ET\n",
    "import pandas as pd\n",
    "#Change setting to avoid dataframe from truncating\n",
    "pd.options.display.max_rows = 500\n",
    "pd.options.display.width = 500\n",
    "pd.options.display.max_colwidth = 500\n",
    "pd.options.display.max_columns = 500"
   ]
  },
  {
   "cell_type": "markdown",
   "metadata": {},
   "source": [
    "\n",
    "---\n",
    "\n",
    "## Reading the XML file"
   ]
  },
  {
   "cell_type": "code",
   "execution_count": 2,
   "metadata": {},
   "outputs": [],
   "source": [
    "# Reading the XML file into a tree\n",
    "tree = ET.parse(\"/Users/medicalagent3/Downloads/PCS_2020/icd10pcs_tables_2020.xml\")\n",
    "root = tree.getroot()"
   ]
  },
  {
   "cell_type": "markdown",
   "metadata": {},
   "source": [
    "\n",
    "---\n",
    "\n",
    "## Parsing the nodes\n",
    "\n",
    "After reading the XML file, there's a consistent pattern for each pcsTable where the first 3 characters of the code will be unique in that table, but the remaining 4 will differ. Depending on the table, there might be more than 1 set of remaining 4 code characters that each will have one or more label under them. The structure is somewhat like this:\n",
    "\n",
    "```\n",
    ".\n",
    "├── pcsTable\n",
    "│   ├ axis\n",
    "│   │  └── label (position 1)\n",
    "│   ├ axis\n",
    "│   │  └── label (position 2)\n",
    "│   ├ axis\n",
    "│   │  └── label (position 3)\n",
    "│   └ pcsRow\n",
    "│       ├ axis\n",
    "│       │  └── label (position 4)\n",
    "│       ├ axis\n",
    "│       │  └── label (position 5)\n",
    "│       ├ axis\n",
    "│       │  └── label (position 6)\n",
    "│       └ axis\n",
    "│          └── label (position 7)\n",
    "│\n",
    "└── pcsTable\n",
    "\n",
    "```     \n",
    "\n",
    "To parse this correctly, I created two empty lists to store the parsing result and use a for loop function where:\n",
    "1. I define the first 3 character codes and titles, concatenate and store them in a separate variable\n",
    "2. Nest a for loop function that goes through all the rows and define 4 separate variables for each code position (from 4 to 7)\n",
    "3. Iterate through all the labels for each code positions and append the end result to the lists outside of the loop\n",
    "\n",
    "   "
   ]
  },
  {
   "cell_type": "code",
   "execution_count": 13,
   "metadata": {},
   "outputs": [],
   "source": [
    "# Parsing the nodes \n",
    "code_result,label_result = [],[] \n",
    "pcstable = root.findall(\"./pcsTable\")\n",
    "for table in pcstable:\n",
    "    label=table.findall(\"./axis\")           \n",
    "    n1 = label[0].findall(\"./label\")\n",
    "    n2 = label[1].findall(\"./label\")\n",
    "    n3 = label[2].findall(\"./label\")\n",
    "    c123 = n1[0].attrib['code'] + n2[0].attrib['code'] + n3[0].attrib['code'] \n",
    "    l123 = n1[0].text + \" @ \" + n2[0].text + \" @ \" + n3[0].text     \n",
    "    rows=table.findall(\"./pcsRow\") \n",
    "    for row in rows:                        \n",
    "        axes = row.findall(\"./axis\") \n",
    "        pos4 = axes[0].findall(\"./label\")\n",
    "        pos5 = axes[1].findall(\"./label\")\n",
    "        pos6 = axes[2].findall(\"./label\")\n",
    "        pos7 = axes[3].findall(\"./label\")\n",
    "        for n4 in pos4:\n",
    "            l124 = l123 + \" @ \" + n4.text\n",
    "            c124 = c123 + n4.attrib['code']\n",
    "            for n5 in pos5:\n",
    "                l125 = l124 + \" @ \" + n5.text\n",
    "                c125 = c124 + n5.attrib['code']\n",
    "                for n6 in pos6:\n",
    "                    l126 = l125 + \" @ \" + n6.text\n",
    "                    c126 = c125 + n6.attrib['code']\n",
    "                    for n7 in pos7:\n",
    "                        l127 = l126  + \" @ \" + n7.text\n",
    "                        c127 = c126 + n7.attrib['code']\n",
    "                        label_result.append(l127)\n",
    "                        code_result.append(c127)"
   ]
  },
  {
   "cell_type": "markdown",
   "metadata": {},
   "source": [
    "[Back to top](#Parsing-ICD-10-PCS-XML-file)\n",
    "\n",
    "---\n",
    "\n",
    "## Creating dataframe"
   ]
  },
  {
   "cell_type": "code",
   "execution_count": 10,
   "metadata": {},
   "outputs": [
    {
     "data": {
      "text/html": [
       "<div>\n",
       "<style scoped>\n",
       "    .dataframe tbody tr th:only-of-type {\n",
       "        vertical-align: middle;\n",
       "    }\n",
       "\n",
       "    .dataframe tbody tr th {\n",
       "        vertical-align: top;\n",
       "    }\n",
       "\n",
       "    .dataframe thead th {\n",
       "        text-align: right;\n",
       "    }\n",
       "</style>\n",
       "<table border=\"1\" class=\"dataframe\">\n",
       "  <thead>\n",
       "    <tr style=\"text-align: right;\">\n",
       "      <th></th>\n",
       "      <th>code</th>\n",
       "      <th>title</th>\n",
       "    </tr>\n",
       "  </thead>\n",
       "  <tbody>\n",
       "    <tr>\n",
       "      <th>0</th>\n",
       "      <td>0016070</td>\n",
       "      <td>Medical and Surgical @ Central Nervous System and Cranial Nerves @ Bypass @ Cerebral Ventricle @ Open @ Autologous Tissue Substitute @ Nasopharynx</td>\n",
       "    </tr>\n",
       "    <tr>\n",
       "      <th>1</th>\n",
       "      <td>0016071</td>\n",
       "      <td>Medical and Surgical @ Central Nervous System and Cranial Nerves @ Bypass @ Cerebral Ventricle @ Open @ Autologous Tissue Substitute @ Mastoid Sinus</td>\n",
       "    </tr>\n",
       "    <tr>\n",
       "      <th>2</th>\n",
       "      <td>0016072</td>\n",
       "      <td>Medical and Surgical @ Central Nervous System and Cranial Nerves @ Bypass @ Cerebral Ventricle @ Open @ Autologous Tissue Substitute @ Atrium</td>\n",
       "    </tr>\n",
       "    <tr>\n",
       "      <th>3</th>\n",
       "      <td>0016073</td>\n",
       "      <td>Medical and Surgical @ Central Nervous System and Cranial Nerves @ Bypass @ Cerebral Ventricle @ Open @ Autologous Tissue Substitute @ Blood Vessel</td>\n",
       "    </tr>\n",
       "    <tr>\n",
       "      <th>4</th>\n",
       "      <td>0016074</td>\n",
       "      <td>Medical and Surgical @ Central Nervous System and Cranial Nerves @ Bypass @ Cerebral Ventricle @ Open @ Autologous Tissue Substitute @ Pleural Cavity</td>\n",
       "    </tr>\n",
       "    <tr>\n",
       "      <th>...</th>\n",
       "      <td>...</td>\n",
       "      <td>...</td>\n",
       "    </tr>\n",
       "    <tr>\n",
       "      <th>77554</th>\n",
       "      <td>XW0DXR5</td>\n",
       "      <td>New Technology @ Anatomical Regions @ Introduction @ Mouth and Pharynx @ External @ Venetoclax Antineoplastic @ New Technology Group 5</td>\n",
       "    </tr>\n",
       "    <tr>\n",
       "      <th>77555</th>\n",
       "      <td>XW0DXT5</td>\n",
       "      <td>New Technology @ Anatomical Regions @ Introduction @ Mouth and Pharynx @ External @ Ruxolitinib @ New Technology Group 5</td>\n",
       "    </tr>\n",
       "    <tr>\n",
       "      <th>77556</th>\n",
       "      <td>XW0DXV5</td>\n",
       "      <td>New Technology @ Anatomical Regions @ Introduction @ Mouth and Pharynx @ External @ Gilteritinib Antineoplastic @ New Technology Group 5</td>\n",
       "    </tr>\n",
       "    <tr>\n",
       "      <th>77557</th>\n",
       "      <td>XXE5XM5</td>\n",
       "      <td>New Technology @ Physiological Systems @ Measurement @ Circulatory @ External @ Infection, Whole Blood Nucleic Acid-base Microbial Detection @ New Technology Group 5</td>\n",
       "    </tr>\n",
       "    <tr>\n",
       "      <th>77558</th>\n",
       "      <td>XY0VX83</td>\n",
       "      <td>New Technology @ Extracorporeal @ Introduction @ Vein Graft @ External @ Endothelial Damage Inhibitor @ New Technology Group 3</td>\n",
       "    </tr>\n",
       "  </tbody>\n",
       "</table>\n",
       "<p>77559 rows × 2 columns</p>\n",
       "</div>"
      ],
      "text/plain": [
       "          code                                                                                                                                                                  title\n",
       "0      0016070                     Medical and Surgical @ Central Nervous System and Cranial Nerves @ Bypass @ Cerebral Ventricle @ Open @ Autologous Tissue Substitute @ Nasopharynx\n",
       "1      0016071                   Medical and Surgical @ Central Nervous System and Cranial Nerves @ Bypass @ Cerebral Ventricle @ Open @ Autologous Tissue Substitute @ Mastoid Sinus\n",
       "2      0016072                          Medical and Surgical @ Central Nervous System and Cranial Nerves @ Bypass @ Cerebral Ventricle @ Open @ Autologous Tissue Substitute @ Atrium\n",
       "3      0016073                    Medical and Surgical @ Central Nervous System and Cranial Nerves @ Bypass @ Cerebral Ventricle @ Open @ Autologous Tissue Substitute @ Blood Vessel\n",
       "4      0016074                  Medical and Surgical @ Central Nervous System and Cranial Nerves @ Bypass @ Cerebral Ventricle @ Open @ Autologous Tissue Substitute @ Pleural Cavity\n",
       "...        ...                                                                                                                                                                    ...\n",
       "77554  XW0DXR5                                 New Technology @ Anatomical Regions @ Introduction @ Mouth and Pharynx @ External @ Venetoclax Antineoplastic @ New Technology Group 5\n",
       "77555  XW0DXT5                                               New Technology @ Anatomical Regions @ Introduction @ Mouth and Pharynx @ External @ Ruxolitinib @ New Technology Group 5\n",
       "77556  XW0DXV5                               New Technology @ Anatomical Regions @ Introduction @ Mouth and Pharynx @ External @ Gilteritinib Antineoplastic @ New Technology Group 5\n",
       "77557  XXE5XM5  New Technology @ Physiological Systems @ Measurement @ Circulatory @ External @ Infection, Whole Blood Nucleic Acid-base Microbial Detection @ New Technology Group 5\n",
       "77558  XY0VX83                                         New Technology @ Extracorporeal @ Introduction @ Vein Graft @ External @ Endothelial Damage Inhibitor @ New Technology Group 3\n",
       "\n",
       "[77559 rows x 2 columns]"
      ]
     },
     "execution_count": 10,
     "metadata": {},
     "output_type": "execute_result"
    }
   ],
   "source": [
    "# Creating dataframe \n",
    "icd10_pcs = pd.DataFrame({'code':code_result, 'title':label_result})\n",
    "icd10_pcs"
   ]
  },
  {
   "cell_type": "markdown",
   "metadata": {},
   "source": [
    "---\n",
    "\n",
    "## Importing to CSV"
   ]
  },
  {
   "cell_type": "code",
   "execution_count": 5,
   "metadata": {},
   "outputs": [],
   "source": [
    "icd10_pcs.to_csv(\"parsed_icd10pcs.csv\")"
   ]
  },
  {
   "cell_type": "markdown",
   "metadata": {},
   "source": [
    "---\n",
    "\n",
    "## Conclusion\n",
    "\n",
    "It took my quite a while to solve this. A colleage from work (to which I'm very grateful!) gave a thorough explanation which provided a great guidance that allowed me to find the right solution. In the process, I learned about XML file structure, strategies that can be used to parse XML and... tqdm package that allows you to see a progress bar for your long iteration.\n",
    "\n",
    "I didn't use tqdm progress bar in this notebook because the functions are quite fast to run. I used it running a one hour long for loop function when [I was trying to bruteforce all the possible combination]() out of the unique code characters from the ICD-10-PCS XML file which has 880 tables and returned the output of 368,462 codes! Definitely the wrong way to do it, but ended up learning a lot from that process as well.\n",
    "\n",
    "Overall, I'm happy with the end result and all the take aways that I got from working this project. On to the next!\n",
    "\n",
    "[Back to top](#Parsing-ICD-10-PCS-XML-file)"
   ]
  }
 ],
 "metadata": {
  "kernelspec": {
   "display_name": "Python 3",
   "language": "python",
   "name": "python3"
  },
  "language_info": {
   "codemirror_mode": {
    "name": "ipython",
    "version": 3
   },
   "file_extension": ".py",
   "mimetype": "text/x-python",
   "name": "python",
   "nbconvert_exporter": "python",
   "pygments_lexer": "ipython3",
   "version": "3.7.6"
  },
  "toc": {
   "base_numbering": 1,
   "nav_menu": {},
   "number_sections": true,
   "sideBar": true,
   "skip_h1_title": true,
   "title_cell": "Table of Contents",
   "title_sidebar": "Contents",
   "toc_cell": false,
   "toc_position": {},
   "toc_section_display": true,
   "toc_window_display": true
  }
 },
 "nbformat": 4,
 "nbformat_minor": 4
}
