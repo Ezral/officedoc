{
 "cells": [
  {
   "cell_type": "markdown",
   "metadata": {},
   "source": [
    "# Agent score exercise\n",
    "\n",
    "---\n",
    "\n",
    "\n",
    "## Content \n",
    "- [Data input function](#Data-input-function)\n",
    "- [Score calculation function](#Score-calculation-function)\n",
    "- [Inputting data](#Inputting-data)\n",
    "- [Implementing scoring function](#Implementing-scoring-function)\n",
    "\n",
    "---\n",
    "## Problem:\n",
    "\n",
    "Calculate social scores for the following agents:\n",
    "\n",
    "    Agent Askk\n",
    "        Coherent: 4\n",
    "        Clear: 3\n",
    "        Concise: 3\n",
    "        Courteous: 4\n",
    "        Concrete: 5\n",
    "        Complete: 1\n",
    "        Correct: 2\n",
    "    Agent Broom\n",
    "        Coherent: 2\n",
    "        Clear: 1\n",
    "        Concise: 4\n",
    "        Courteous: 3\n",
    "        Concrete: 5\n",
    "        Complete: 4\n",
    "        Correct: 3\n",
    "    Agent Carrot\n",
    "        Coherent: 5\n",
    "        Clear: 3\n",
    "        Concise: 3\n",
    "        Courteous: 2\n",
    "        Concrete: 5\n",
    "        Complete: 1\n",
    "        Correct: 5\n",
    "    Agent Doctor\n",
    "        Coherent: 4\n",
    "        Clear: 1\n",
    "        Concise: 3\n",
    "        Courteous: 1\n",
    "        Concrete: 5\n",
    "        Complete: 4\n",
    "        Correct: 5\n",
    "    Agent Ebola\n",
    "        Coherent: 2\n",
    "        Clear: 1\n",
    "        Concise: 2\n",
    "        Courteous: 3\n",
    "        Concrete: 5\n",
    "        Complete: 2\n",
    "        Correct: 2\n",
    "    Agent Funky\n",
    "        Coherent: 1\n",
    "        Clear: 2\n",
    "        Concise: 3\n",
    "        Courteous: 5\n",
    "        Concrete: 5\n",
    "        Complete: 1\n",
    "        Correct: 2\n",
    "    Agent Granny\n",
    "        Coherent: 1\n",
    "        Clear: 3\n",
    "        Concise: 4\n",
    "        Courteous: 3\n",
    "        Concrete: 2\n",
    "        Complete: 1\n",
    "        Correct: 2\n",
    "\n",
    "    The output should be in the following format\n",
    "        Agent name ===> score\n",
    "        Agent name ===> score\n",
    "        Agent name ===> score\n",
    "        \n",
    "---\n",
    "\n",
    "## Solution:\n",
    "\n",
    "### Data input function"
   ]
  },
  {
   "cell_type": "code",
   "execution_count": 1,
   "metadata": {
    "code_folding": []
   },
   "outputs": [],
   "source": [
    "# Creating data input function and empty dictionary to contain the scores \n",
    "score_dict = {}\n",
    "\n",
    "def input_score(name):\n",
    "    \n",
    "    '''Take name input value to act\n",
    "    as the key in score_dict dictionary\n",
    "    and the manually inputted social \n",
    "    metrics as the dictionary values'''\n",
    "    \n",
    "    coherent = input(\"Coherent: \")\n",
    "    clear = input(\"clear: \")\n",
    "    concise = input(\"Concise: \")\n",
    "    courteous = input(\"Courteous: \")\n",
    "    concrete = input(\"Concrete: \")\n",
    "    complete = input(\"Complete: \")\n",
    "    correct = input(\"Correct: \")\n",
    "    score_dict[name] = {\n",
    "                    'coherent':coherent,\n",
    "                    'clear':clear,\n",
    "                    'concise':concise,\n",
    "                    'courteous':courteous,\n",
    "                    'concrete':concrete,\n",
    "                    'complete':complete,\n",
    "                    'correct':correct\n",
    "                    }"
   ]
  },
  {
   "cell_type": "markdown",
   "metadata": {},
   "source": [
    "[Back to top](#Content)"
   ]
  },
  {
   "cell_type": "markdown",
   "metadata": {},
   "source": [
    "### Score calculation function"
   ]
  },
  {
   "cell_type": "code",
   "execution_count": 2,
   "metadata": {
    "code_folding": []
   },
   "outputs": [],
   "source": [
    "# Defining score calculation function \n",
    "def calculate_social_score(x):\n",
    "    '''\n",
    "    Function takes the agent's name \n",
    "    to be used as the key to call all the \n",
    "    social metrics score which is stored\n",
    "    in score_dict dictionary as the values\n",
    "    '''\n",
    "    social_score = (int(score_dict[x]['coherent']) * 2 * 0.1) + (int(score_dict[x]['clear']) * 2 * 0.1) + (int(score_dict[x]['concise']) * 2 * 0.1) + (int(score_dict[x]['courteous']) * 2 * 0.15) + (int(score_dict[x]['concrete']) * 2 * 0.15) + (int(score_dict[x]['complete']) * 2 * 0.15) + (int(score_dict[x]['correct']) * 2 * 0.25)\n",
    "    return social_score"
   ]
  },
  {
   "cell_type": "markdown",
   "metadata": {},
   "source": [
    "[Back to top](#Content)\n",
    "\n",
    "---\n",
    "\n",
    "### Inputting data"
   ]
  },
  {
   "cell_type": "code",
   "execution_count": 3,
   "metadata": {
    "code_folding": [],
    "scrolled": true
   },
   "outputs": [
    {
     "name": "stdout",
     "output_type": "stream",
     "text": [
      "Agent name: Askk\n",
      "-------\n",
      "Coherent: 4\n",
      "clear: 3\n",
      "Concise: 3\n",
      "Courteous: 4\n",
      "Concrete: 5\n",
      "Complete: 1\n",
      "Correct: 2\n",
      "-------\n",
      "\n",
      "Agent name: Broom\n",
      "-------\n",
      "Coherent: 2\n",
      "clear: 1\n",
      "Concise: 4\n",
      "Courteous: 3\n",
      "Concrete: 5\n",
      "Complete: 4\n",
      "Correct: 3\n",
      "-------\n",
      "\n",
      "Agent name: Carrot\n",
      "-------\n",
      "Coherent: 5\n",
      "clear: 3\n",
      "Concise: 3\n",
      "Courteous: 2\n",
      "Concrete: 5\n",
      "Complete: 1\n",
      "Correct: 5\n",
      "-------\n",
      "\n",
      "Agent name: Doctor\n",
      "-------\n",
      "Coherent: 4\n",
      "clear: 1\n",
      "Concise: 3\n",
      "Courteous: 1\n",
      "Concrete: 5\n",
      "Complete: 4\n",
      "Correct: 5\n",
      "-------\n",
      "\n",
      "Agent name: Ebola\n",
      "-------\n",
      "Coherent: 2\n",
      "clear: 1\n",
      "Concise: 2\n",
      "Courteous: 3\n",
      "Concrete: 5\n",
      "Complete: 2\n",
      "Correct: 2\n",
      "-------\n",
      "\n",
      "Agent name: Funky\n",
      "-------\n",
      "Coherent: 1\n",
      "clear: 2\n",
      "Concise: 3\n",
      "Courteous: 5\n",
      "Concrete: 5\n",
      "Complete: 1\n",
      "Correct: 2\n",
      "-------\n",
      "\n",
      "Agent name: Granny\n",
      "-------\n",
      "Coherent: 1\n",
      "clear: 3\n",
      "Concise: 4\n",
      "Courteous: 3\n",
      "Concrete: 2\n",
      "Complete: 1\n",
      "Correct: 2\n",
      "-------\n",
      "\n"
     ]
    }
   ],
   "source": [
    "# Using for loop to input the data for the agents whose name are on the list \n",
    "agents = [\"Askk\",\"Broom\",\"Carrot\",\"Doctor\",\"Ebola\",\"Funky\",\"Granny\"]\n",
    "for agent in agents:\n",
    "    print(\"Agent name: {}\".format(agent))\n",
    "    print(\"-------\")\n",
    "    input_score(agent)\n",
    "    print(\"-------\\n\")"
   ]
  },
  {
   "cell_type": "markdown",
   "metadata": {},
   "source": [
    "Checking the dictionary:"
   ]
  },
  {
   "cell_type": "code",
   "execution_count": 4,
   "metadata": {
    "scrolled": true
   },
   "outputs": [
    {
     "data": {
      "text/plain": [
       "{'Askk': {'coherent': '4',\n",
       "  'clear': '3',\n",
       "  'concise': '3',\n",
       "  'courteous': '4',\n",
       "  'concrete': '5',\n",
       "  'complete': '1',\n",
       "  'correct': '2'},\n",
       " 'Broom': {'coherent': '2',\n",
       "  'clear': '1',\n",
       "  'concise': '4',\n",
       "  'courteous': '3',\n",
       "  'concrete': '5',\n",
       "  'complete': '4',\n",
       "  'correct': '3'},\n",
       " 'Carrot': {'coherent': '5',\n",
       "  'clear': '3',\n",
       "  'concise': '3',\n",
       "  'courteous': '2',\n",
       "  'concrete': '5',\n",
       "  'complete': '1',\n",
       "  'correct': '5'},\n",
       " 'Doctor': {'coherent': '4',\n",
       "  'clear': '1',\n",
       "  'concise': '3',\n",
       "  'courteous': '1',\n",
       "  'concrete': '5',\n",
       "  'complete': '4',\n",
       "  'correct': '5'},\n",
       " 'Ebola': {'coherent': '2',\n",
       "  'clear': '1',\n",
       "  'concise': '2',\n",
       "  'courteous': '3',\n",
       "  'concrete': '5',\n",
       "  'complete': '2',\n",
       "  'correct': '2'},\n",
       " 'Funky': {'coherent': '1',\n",
       "  'clear': '2',\n",
       "  'concise': '3',\n",
       "  'courteous': '5',\n",
       "  'concrete': '5',\n",
       "  'complete': '1',\n",
       "  'correct': '2'},\n",
       " 'Granny': {'coherent': '1',\n",
       "  'clear': '3',\n",
       "  'concise': '4',\n",
       "  'courteous': '3',\n",
       "  'concrete': '2',\n",
       "  'complete': '1',\n",
       "  'correct': '2'}}"
      ]
     },
     "execution_count": 4,
     "metadata": {},
     "output_type": "execute_result"
    }
   ],
   "source": [
    "score_dict"
   ]
  },
  {
   "cell_type": "markdown",
   "metadata": {},
   "source": [
    "### Implementing scoring function"
   ]
  },
  {
   "cell_type": "code",
   "execution_count": 5,
   "metadata": {},
   "outputs": [
    {
     "name": "stdout",
     "output_type": "stream",
     "text": [
      "Askk ==> 6.0\n",
      "Broom ==> 6.5\n",
      "Carrot ==> 7.1000000000000005\n",
      "Doctor ==> 7.1000000000000005\n",
      "Ebola ==> 5.0\n",
      "Funky ==> 5.5\n",
      "Granny ==> 4.4\n"
     ]
    }
   ],
   "source": [
    "# Using for loop to iterate through agents name and calculating the score on each iteration:\n",
    "for agent in agents:\n",
    "    result = calculate_social_score(agent)\n",
    "    print(\"{} ==> {}\".format(agent,result))"
   ]
  },
  {
   "cell_type": "markdown",
   "metadata": {},
   "source": [
    "[Back to top](#Content)"
   ]
  }
 ],
 "metadata": {
  "kernelspec": {
   "display_name": "Python 3",
   "language": "python",
   "name": "python3"
  },
  "language_info": {
   "codemirror_mode": {
    "name": "ipython",
    "version": 3
   },
   "file_extension": ".py",
   "mimetype": "text/x-python",
   "name": "python",
   "nbconvert_exporter": "python",
   "pygments_lexer": "ipython3",
   "version": "3.7.6"
  },
  "toc": {
   "base_numbering": 1,
   "nav_menu": {},
   "number_sections": true,
   "sideBar": true,
   "skip_h1_title": true,
   "title_cell": "Table of Contents",
   "title_sidebar": "Contents",
   "toc_cell": false,
   "toc_position": {},
   "toc_section_display": true,
   "toc_window_display": true
  }
 },
 "nbformat": 4,
 "nbformat_minor": 4
}
